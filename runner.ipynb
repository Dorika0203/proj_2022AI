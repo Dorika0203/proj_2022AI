{
 "cells": [
  {
   "cell_type": "code",
   "execution_count": null,
   "metadata": {},
   "outputs": [],
   "source": [
    "import numpy as np\n",
    "import matplotlib.pyplot as plt"
   ]
  },
  {
   "cell_type": "code",
   "execution_count": null,
   "metadata": {},
   "outputs": [],
   "source": [
    "train_loss_resnet = np.load('./result/resnet-2/train_loss.npy', allow_pickle=True)\n",
    "test_loss_resnet = np.load('./result/resnet-2/test_loss.npy', allow_pickle=True)\n",
    "test_acc_resnet = np.load('./result/resnet-2/test_acc.npy', allow_pickle=True)\n",
    "\n",
    "train_loss_m1 = np.load('./result/model_1-2/train_loss.npy', allow_pickle=True)\n",
    "test_loss_m1 = np.load('./result/model_1-2/test_loss.npy', allow_pickle=True)\n",
    "test_acc_m1 = np.load('./result/model_1-2/test_acc.npy', allow_pickle=True)\n",
    "\n",
    "train_loss_m2 = np.load('./result/model_2-2/train_loss.npy', allow_pickle=True)\n",
    "test_loss_m2 = np.load('./result/model_2-2/test_loss.npy', allow_pickle=True)\n",
    "test_acc_m2 = np.load('./result/model_2-2/test_acc.npy', allow_pickle=True)\n",
    "\n",
    "\n",
    "x_axis = [i for i in range(50)]\n",
    "plt.plot(x_axis, train_loss_resnet, label='resnet-train')\n",
    "plt.plot(x_axis, test_loss_resnet, label='resnet-test')\n",
    "plt.legend(loc='upper right')\n",
    "plt.show()\n",
    "\n",
    "plt.plot(x_axis, train_loss_m1, label='m1-train')\n",
    "plt.plot(x_axis, test_loss_m1, label='m1-test')\n",
    "plt.legend(loc='upper right')\n",
    "plt.show()\n",
    "\n",
    "plt.plot(x_axis, train_loss_m2, label='m2-train')\n",
    "plt.plot(x_axis, test_loss_m2, label='m2-test')\n",
    "plt.legend(loc='upper right')\n",
    "plt.show()\n",
    "\n",
    "plt.plot(x_axis, test_acc_resnet, label='resnet')\n",
    "plt.plot(x_axis, test_acc_m1, label='m1')\n",
    "plt.plot(x_axis, test_acc_m2, label='m2')\n",
    "plt.legend(loc='upper right')\n",
    "plt.show()"
   ]
  },
  {
   "cell_type": "code",
   "execution_count": null,
   "metadata": {},
   "outputs": [],
   "source": [
    "x_axis = [i for i in range(test_loss_m1.shape[0])]\n",
    "\n",
    "plt.plot(x_axis, test_loss_resnet, label='resnet')\n",
    "plt.plot(x_axis, test_loss_m1, label='M1')\n",
    "plt.plot(x_axis, test_loss_m2, label='M2')\n",
    "plt.legend(loc='upper right')\n",
    "plt.show()\n",
    "\n",
    "print(np.min(test_loss_resnet))\n",
    "print(np.min(test_loss_m1))\n",
    "print(np.min(test_loss_m2))"
   ]
  },
  {
   "cell_type": "code",
   "execution_count": null,
   "metadata": {},
   "outputs": [],
   "source": [
    "print(\"[RESNET] best accuracy: {}, best epoch (test loss): {}, best epoch (test acc): {}\".format(test_acc_resnet[np.argmax(test_acc_resnet)], np.argmin(test_loss_resnet) + 1, np.argmax(test_acc_resnet) + 1))\n",
    "print(\"[MODEL 1] best accuracy: {}, best epoch (test loss): {}, best epoch (test acc): {}\".format(test_acc_m1[np.argmax(test_acc_m1)], np.argmin(test_loss_m1) + 1, np.argmax(test_acc_m1) + 1))\n",
    "print(\"[MODEL 2] best accuracy: {}, best epoch (test loss): {}, best epoch (test acc): {}\".format(test_acc_m2[np.argmax(test_acc_m2)], np.argmin(test_loss_m2) + 1, np.argmax(test_acc_m2) + 1))"
   ]
  },
  {
   "cell_type": "code",
   "execution_count": null,
   "metadata": {},
   "outputs": [],
   "source": []
  }
 ],
 "metadata": {
  "interpreter": {
   "hash": "4d4db582e0043d0d78a812ed875778b64f0a042951926d1c843812a6f442adaa"
  },
  "kernelspec": {
   "display_name": "Python 3.9.6 64-bit",
   "language": "python",
   "name": "python3"
  },
  "language_info": {
   "codemirror_mode": {
    "name": "ipython",
    "version": 3
   },
   "file_extension": ".py",
   "mimetype": "text/x-python",
   "name": "python",
   "nbconvert_exporter": "python",
   "pygments_lexer": "ipython3",
   "version": "3.9.6"
  },
  "orig_nbformat": 4
 },
 "nbformat": 4,
 "nbformat_minor": 2
}
