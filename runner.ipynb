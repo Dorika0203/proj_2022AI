{
 "cells": [
  {
   "cell_type": "code",
   "execution_count": null,
   "metadata": {},
   "outputs": [],
   "source": [
    "import torch\n",
    "import numpy as np\n",
    "import matplotlib.pyplot as plt"
   ]
  },
  {
   "cell_type": "code",
   "execution_count": null,
   "metadata": {},
   "outputs": [],
   "source": [
    "DATASET_DIR = 'D:/dataset_car/kcar_preprocessed/kcar'\n",
    "BATCH_SIZE = 16\n",
    "LEARNING_RATE = 0.001\n",
    "EPOCH = 10\n",
    "SAVE_DIR = './result/'"
   ]
  },
  {
   "cell_type": "code",
   "execution_count": null,
   "metadata": {},
   "outputs": [],
   "source": [
    "# GET DEVICE AND CHECK.\n",
    "gpu_flag = torch.cuda.is_available()\n",
    "device = torch.device(\"cuda\" if gpu_flag else \"cpu\")\n",
    "print(\"GPU INFO : \", torch.cuda.get_device_name(device))"
   ]
  },
  {
   "cell_type": "code",
   "execution_count": null,
   "metadata": {},
   "outputs": [],
   "source": [
    "train_loss_resnet = np.load('./result/resnet/train_loss.npy', allow_pickle=True)\n",
    "test_loss_resnet = np.load('./result/resnet/test_loss.npy', allow_pickle=True)\n",
    "\n",
    "train_loss_m1 = np.load('./result/model_1/train_loss.npy', allow_pickle=True)\n",
    "test_loss_m1 = np.load('./result/model_1/test_loss.npy', allow_pickle=True)\n",
    "test_acc_m1 = np.load('./result/model_1/test_acc.npy', allow_pickle=True)\n",
    "\n",
    "train_loss_m2 = np.load('./result/model_2/train_loss.npy', allow_pickle=True)\n",
    "test_loss_m2 = np.load('./result/model_2/test_loss.npy', allow_pickle=True)\n",
    "test_acc_m2 = np.load('./result/model_2/test_acc.npy', allow_pickle=True)\n",
    "\n",
    "\n",
    "x_axis = [i for i in range(50)]\n",
    "plt.plot(x_axis, train_loss_resnet, label='resnet-train')\n",
    "plt.plot(x_axis, test_loss_resnet, label='resnet-test')\n",
    "plt.legend(loc='upper right')\n",
    "plt.show()\n",
    "\n",
    "plt.plot(x_axis, train_loss_m1, label='m1-train')\n",
    "plt.plot(x_axis, test_loss_m1, label='m1-test')\n",
    "plt.legend(loc='upper right')\n",
    "plt.show()\n",
    "\n",
    "plt.plot(x_axis, train_loss_m2, label='m2-train')\n",
    "plt.plot(x_axis, test_loss_m2, label='m2-test')\n",
    "plt.legend(loc='upper right')\n",
    "plt.show()\n",
    "\n",
    "plt.plot(x_axis, test_acc_m1, label='m1')\n",
    "plt.plot(x_axis, test_acc_m2, label='m2')\n",
    "plt.legend(loc='upper right')\n",
    "plt.show()"
   ]
  },
  {
   "cell_type": "code",
   "execution_count": null,
   "metadata": {},
   "outputs": [],
   "source": [
    "cv_loss_resnet = np.load('./result/resnet/cv_loss_epoch.npy', allow_pickle=True)\n",
    "cv_loss_m1 = np.load('./result/model_1/cv_loss_epoch.npy', allow_pickle=True)\n",
    "\n",
    "axis_len = np.shape(cv_loss_m1)[0]\n",
    "x_axis = [i for i in range(axis_len)]\n",
    "\n",
    "plt.plot(x_axis, cv_loss_resnet, label='resnet')\n",
    "plt.plot(x_axis, cv_loss_m1, label='m1')\n",
    "plt.legend(loc='upper right')\n",
    "plt.show()"
   ]
  },
  {
   "cell_type": "code",
   "execution_count": null,
   "metadata": {},
   "outputs": [],
   "source": [
    "cv_loss_epoch_lr_10 = np.load('./npy/cv_loss_epoch_lr_0.01.npy')\n",
    "cv_loss_epoch_lr_1 = np.load('./npy/cv_loss_epoch_lr_0.001.npy')\n",
    "cv_loss_epoch_lr_3 = np.load('./npy/cv_loss_epoch_lr_0.003.npy')\n",
    "\n",
    "print(cv_loss_epoch_lr_1.shape)\n",
    "print(cv_loss_epoch_lr_3.shape)\n",
    "print(cv_loss_epoch_lr_10.shape)\n",
    "\n",
    "x_axis = [i for i in range(cv_loss_epoch_lr_1.shape[0])]\n",
    "\n",
    "plt.plot(x_axis, cv_loss_epoch_lr_1, label='0.001')\n",
    "plt.plot(x_axis, cv_loss_epoch_lr_3, label='0.003')\n",
    "plt.plot(x_axis, cv_loss_epoch_lr_10, label='0.01')\n",
    "plt.legend(loc='upper right')\n",
    "plt.show()"
   ]
  },
  {
   "cell_type": "code",
   "execution_count": null,
   "metadata": {},
   "outputs": [],
   "source": [
    "print(np.argmin(cv_loss_epoch_lr_1))\n",
    "print(cv_loss_epoch_lr_1[np.argmin(cv_loss_epoch_lr_1)])"
   ]
  },
  {
   "cell_type": "code",
   "execution_count": null,
   "metadata": {},
   "outputs": [],
   "source": [
    "x_axis = [i for i in range(test_loss_m1.shape[0])]\n",
    "\n",
    "plt.plot(x_axis, test_loss_resnet, label='resnet')\n",
    "plt.plot(x_axis, test_loss_m1, label='M1')\n",
    "plt.plot(x_axis, test_loss_m2, label='M2')\n",
    "plt.legend(loc='upper right')\n",
    "plt.show()"
   ]
  },
  {
   "cell_type": "code",
   "execution_count": null,
   "metadata": {},
   "outputs": [],
   "source": [
    "print(test_loss_resnet[np.argmin(test_loss_resnet)])\n",
    "print(np.argmin(test_loss_resnet))\n",
    "print(test_loss_m1[np.argmin(test_loss_m1)])\n",
    "print(np.argmin(test_loss_m1))\n",
    "print(test_loss_m2[np.argmin(test_loss_m2)])\n",
    "print(np.argmin(test_loss_m2))"
   ]
  },
  {
   "cell_type": "code",
   "execution_count": null,
   "metadata": {},
   "outputs": [],
   "source": []
  }
 ],
 "metadata": {
  "interpreter": {
   "hash": "4d4db582e0043d0d78a812ed875778b64f0a042951926d1c843812a6f442adaa"
  },
  "kernelspec": {
   "display_name": "Python 3.9.6 64-bit",
   "language": "python",
   "name": "python3"
  },
  "language_info": {
   "codemirror_mode": {
    "name": "ipython",
    "version": 3
   },
   "file_extension": ".py",
   "mimetype": "text/x-python",
   "name": "python",
   "nbconvert_exporter": "python",
   "pygments_lexer": "ipython3",
   "version": "3.9.6"
  },
  "orig_nbformat": 4
 },
 "nbformat": 4,
 "nbformat_minor": 2
}
