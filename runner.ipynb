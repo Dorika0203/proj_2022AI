{
 "cells": [
  {
   "cell_type": "code",
   "execution_count": null,
   "metadata": {},
   "outputs": [],
   "source": [
    "import utils as utils\n",
    "import network as nw\n",
    "from torch.utils.data import DataLoader, SubsetRandomSampler\n",
    "import torch.nn as nn\n",
    "import torch\n",
    "from tqdm import tqdm\n",
    "from sklearn.model_selection import KFold\n",
    "import matplotlib.pyplot as plt\n",
    "import numpy as np\n",
    "import train as trainer\n",
    "import importlib as im"
   ]
  },
  {
   "cell_type": "code",
   "execution_count": null,
   "metadata": {},
   "outputs": [],
   "source": [
    "DATASET_DIR = 'D:/dataset_car/kcar_preprocessed/kcar'\n",
    "BATCH_SIZE = 16\n",
    "LEARNING_RATE = 0.001\n",
    "EPOCH = 10\n",
    "SAVE_DIR = './result/'"
   ]
  },
  {
   "cell_type": "code",
   "execution_count": null,
   "metadata": {},
   "outputs": [],
   "source": [
    "# GET DEVICE AND CHECK.\n",
    "gpu_flag = torch.cuda.is_available()\n",
    "device = torch.device(\"cuda\" if gpu_flag else \"cpu\")\n",
    "print(\"GPU INFO : \", torch.cuda.get_device_name(device))"
   ]
  },
  {
   "cell_type": "code",
   "execution_count": null,
   "metadata": {},
   "outputs": [],
   "source": [
    "# LOAD DATASET\n",
    "d_total = utils.get_dataset(DATASET_DIR)\n",
    "_, d_total = utils.split_dataset(d_total, (4,1))\n",
    "# _, d_total = utils.split_dataset(d_total, (99, 1))\n",
    "print(\"DATA LOADING DONE.\")"
   ]
  },
  {
   "cell_type": "code",
   "execution_count": null,
   "metadata": {},
   "outputs": [],
   "source": [
    "# cross validation for epoch\n",
    "im.reload(trainer)\n",
    "\n",
    "EPOCH = 10\n",
    "BATCH_SIZE = 16\n",
    "LEARNING_RATE = 0.001\n",
    "\n",
    "cv_result = trainer.cross_validation(\n",
    "    dataset=d_total,\n",
    "    device=device,\n",
    "    max_epoch=EPOCH,\n",
    "    batch_size=BATCH_SIZE,\n",
    "    lr=LEARNING_RATE,\n",
    "    n_split=2,\n",
    "    modelType='m2'\n",
    "    )"
   ]
  },
  {
   "cell_type": "code",
   "execution_count": null,
   "metadata": {},
   "outputs": [],
   "source": [
    "x_axis = [i for i in range(len(cv_result))]\n",
    "y_axis = list(cv_result)\n",
    "plt.plot(x_axis, y_axis)"
   ]
  },
  {
   "cell_type": "code",
   "execution_count": null,
   "metadata": {},
   "outputs": [],
   "source": [
    "## Training\n",
    "im.reload(trainer)\n",
    "EPOCH = 1\n",
    "BATCH_SIZE=16\n",
    "LEARNING_RATE=0.001\n",
    "SAVE_DIR = './result/resNet18'\n",
    "\n",
    "last_model, train_loss_arr, test_loss_arr, test_acc_arr = trainer.train(\n",
    "    dataset=d_total,\n",
    "    device=device,\n",
    "    max_epoch=EPOCH,\n",
    "    batch_size=BATCH_SIZE,\n",
    "    lr=LEARNING_RATE,\n",
    "    modelType='m1',\n",
    "    save_dir=SAVE_DIR\n",
    ")\n",
    "\n",
    "# After train, see structure\n",
    "print(last_model)"
   ]
  },
  {
   "cell_type": "code",
   "execution_count": null,
   "metadata": {},
   "outputs": [],
   "source": [
    "# training and test loss by epoch.\n",
    "\n",
    "x_axis = [i for i in range(EPOCH)]\n",
    "plt.plot(x_axis, train_loss_arr)\n",
    "plt.plot(x_axis, test_loss_arr)\n",
    "plt.show()"
   ]
  },
  {
   "cell_type": "code",
   "execution_count": null,
   "metadata": {},
   "outputs": [],
   "source": [
    "# obtain first 2 convolutional layer filter maps.\n",
    "\n",
    "filter_map = []\n",
    "for param in list(last_model.parameters()):\n",
    "    if param.dim() == 4:\n",
    "        print(param.shape)\n",
    "        filter_map.append(param)\n",
    "    \n",
    "last_model.cpu()\n",
    "utils.visualize_filter(filter_map[0])\n",
    "utils.visualize_filter(filter_map[1])"
   ]
  },
  {
   "cell_type": "code",
   "execution_count": null,
   "metadata": {},
   "outputs": [],
   "source": [
    "# test accuracy by epoch, until epoch 30\n",
    "\n",
    "x_axis = [i for i in range(30)]\n",
    "test_acc_arr = [i.cpu() for i in test_acc_arr]\n",
    "plt.plot(x_axis, test_acc_arr[:30])\n",
    "plt.show()"
   ]
  }
 ],
 "metadata": {
  "interpreter": {
   "hash": "4d4db582e0043d0d78a812ed875778b64f0a042951926d1c843812a6f442adaa"
  },
  "kernelspec": {
   "display_name": "Python 3.9.6 64-bit",
   "language": "python",
   "name": "python3"
  },
  "language_info": {
   "codemirror_mode": {
    "name": "ipython",
    "version": 3
   },
   "file_extension": ".py",
   "mimetype": "text/x-python",
   "name": "python",
   "nbconvert_exporter": "python",
   "pygments_lexer": "ipython3",
   "version": "3.9.6"
  },
  "orig_nbformat": 4
 },
 "nbformat": 4,
 "nbformat_minor": 2
}
